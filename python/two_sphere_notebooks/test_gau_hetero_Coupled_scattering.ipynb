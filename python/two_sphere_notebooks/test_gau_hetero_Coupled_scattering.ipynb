{
 "cells": [
  {
   "cell_type": "code",
   "execution_count": 1,
   "metadata": {},
   "outputs": [],
   "source": [
    "import os\n",
    "import sys\n",
    "\n",
    "import numpy as np\n",
    "import matplotlib.pyplot as plt\n",
    "import matplotlib as mpl"
   ]
  },
  {
   "cell_type": "code",
   "execution_count": 2,
   "metadata": {},
   "outputs": [],
   "source": [
    "## Matplotlib settings\n",
    "## inspired by http://nipunbatra.github.io/2014/08/latexify/\n",
    "params = {\n",
    "    'text.latex.preamble': ['\\\\usepackage{gensymb}'],\n",
    "    'image.origin': 'lower',\n",
    "    'image.interpolation': 'nearest',\n",
    "    'image.cmap': 'magma',\n",
    "    'axes.grid': False,\n",
    "    'figure.dpi': 200,  # to adjust notebook inline plot size\n",
    "    'savefig.dpi': 200,  # to adjust notebook inline plot size\n",
    "    'axes.labelsize': 12, # fontsize for x and y labels (was 10)\n",
    "    'axes.titlesize': 14,\n",
    "    'font.size': 8, # was 10\n",
    "    'legend.fontsize': 8, # was 10\n",
    "    'xtick.labelsize': 8,\n",
    "    'ytick.labelsize': 8,\n",
    "    'text.usetex': True,\n",
    "    'figure.figsize': [3.5, 2.625], # 4 x 3\n",
    "#     'figure.figsize': [4*1.125, 3*1.125], # 4x3, full slide in keynote\n",
    "    'font.family': 'serif',\n",
    "    'figure.max_open_warning':100\n",
    "}\n",
    "mpl.rcParams.update(params)\n",
    "\n",
    "## Get physical constants from Scipy\n",
    "import scipy.constants as con\n",
    "## Some useful numerical constants\n",
    "hbar = con.physical_constants['Planck constant over 2 pi in eV s'][0]\n",
    "c = con.physical_constants['speed of light in vacuum'][0]*1e2 #cm/m\n",
    "# k = con.physical_constants['Boltzmann constant in eV/K'][0]\n",
    "\n",
    "import scipy.integrate as int\n",
    "\n",
    "import scipy.io as sio\n",
    "\n",
    "import scipy.optimize as opt\n",
    "\n",
    "import scipy.special as spl"
   ]
  },
  {
   "cell_type": "code",
   "execution_count": 3,
   "metadata": {},
   "outputs": [],
   "source": [
    "misloc_pack_path = os.path.join(\n",
    "    os.path.sep,\n",
    "    'Users',\n",
    "    'chair',\n",
    "    'Documents',\n",
    "    'Academia',\n",
    "    'SuperRes',\n",
    "    'Biteen_colab',\n",
    "    'Mispolarization',\n",
    "    'python',\n",
    "#     'gitted',\n",
    "    )\n",
    "\n",
    "sys.path.append(misloc_pack_path)\n",
    "\n",
    "import misloc_mispol_package as mmp\n",
    "import misloc_mispol_package.calc.coupled_dipoles as cp\n",
    "import misloc_mispol_package.optics.anal_foc_diff_fields as aff"
   ]
  },
  {
   "cell_type": "code",
   "execution_count": 4,
   "metadata": {},
   "outputs": [],
   "source": [
    "import twosphere_temperature as tst\n",
    "import pti_model as pti"
   ]
  },
  {
   "cell_type": "code",
   "execution_count": 5,
   "metadata": {},
   "outputs": [],
   "source": [
    "# mol_angle=0,\n",
    "# plas_angle=0,\n",
    "# d_col=-d_col_cm,\n",
    "# p0_position=-d_col_cm/2,\n",
    "# beam_x_positions=obs_points,\n",
    "# E_d_angle=0,\n",
    "# drive_hbar_w=anti_enei,\n",
    "# alpha0_diag=alpha_1_of_hw(anti_enei),\n",
    "# alpha1_diag=alpha_2_of_hw(anti_enei),\n",
    "# n_b=eps_back**0.5,\n",
    "# drive_amp=Eplane,\n",
    "# return_polarizabilities=False,"
   ]
  },
  {
   "cell_type": "code",
   "execution_count": 6,
   "metadata": {},
   "outputs": [],
   "source": [
    "x = np.linspace(-500, 500, 100)*1e-7\n",
    "X, Y = np.meshgrid(x, x)\n",
    "\n",
    "field = aff.E_field(\n",
    "    dipole_orientation_angle=0,\n",
    "    xi=X,\n",
    "    y=Y,\n",
    "    k=2.4/hbar/c\n",
    "    ).T"
   ]
  },
  {
   "cell_type": "code",
   "execution_count": 26,
   "metadata": {},
   "outputs": [
    {
     "data": {
      "text/plain": [
       "(100, 100, 3)"
      ]
     },
     "execution_count": 26,
     "metadata": {},
     "output_type": "execute_result"
    }
   ],
   "source": [
    "field.shape"
   ]
  },
  {
   "cell_type": "code",
   "execution_count": 47,
   "metadata": {},
   "outputs": [
    {
     "data": {
      "text/plain": [
       "1.6041512006547537e+31"
      ]
     },
     "execution_count": 47,
     "metadata": {},
     "output_type": "execute_result"
    }
   ],
   "source": [
    "intensity = (c/8*np.pi) * np.sum(field*np.conj(field), axis=-1)\n",
    "\n",
    "area_image = (x.max() - x.min())**2. \n",
    "num_pixels = len(x)**2.\n",
    "area_per_pixel = area_image / num_pixels\n",
    "power = np.sum(intensity) * area_per_pixel\n",
    "power"
   ]
  },
  {
   "cell_type": "code",
   "execution_count": 48,
   "metadata": {},
   "outputs": [
    {
     "data": {
      "text/plain": [
       "9.999999999999998e-13"
      ]
     },
     "execution_count": 48,
     "metadata": {},
     "output_type": "execute_result"
    }
   ],
   "source": [
    "area_per_pixel"
   ]
  },
  {
   "cell_type": "code",
   "execution_count": 49,
   "metadata": {},
   "outputs": [
    {
     "data": {
      "text/plain": [
       "<matplotlib.colorbar.Colorbar at 0x1520818080>"
      ]
     },
     "execution_count": 49,
     "metadata": {},
     "output_type": "execute_result"
    },
    {
     "data": {
      "image/png": "[encoded data removed]",
      "text/plain": [
       "<Figure size 700x525 with 2 Axes>"
      ]
     },
     "metadata": {
      "needs_background": "light"
     },
     "output_type": "display_data"
    }
   ],
   "source": [
    "plt.imshow(intensity/(power))\n",
    "plt.colorbar()"
   ]
  },
  {
   "cell_type": "code",
   "execution_count": 50,
   "metadata": {},
   "outputs": [
    {
     "data": {
      "text/plain": [
       "1.604151200654754e+43"
      ]
     },
     "execution_count": 50,
     "metadata": {},
     "output_type": "execute_result"
    }
   ],
   "source": [
    "np.sum(intensity)"
   ]
  },
  {
   "cell_type": "code",
   "execution_count": 51,
   "metadata": {},
   "outputs": [
    {
     "data": {
      "text/plain": [
       "1.6041512006547537e+31"
      ]
     },
     "execution_count": 51,
     "metadata": {},
     "output_type": "execute_result"
    }
   ],
   "source": [
    "power"
   ]
  },
  {
   "cell_type": "code",
   "execution_count": 52,
   "metadata": {},
   "outputs": [
    {
     "data": {
      "text/plain": [
       "1.0"
      ]
     },
     "execution_count": 52,
     "metadata": {},
     "output_type": "execute_result"
    }
   ],
   "source": [
    "np.sum(intensity)/(power/area_per_pixel)"
   ]
  },
  {
   "cell_type": "code",
   "execution_count": 61,
   "metadata": {},
   "outputs": [
    {
     "data": {
      "text/plain": [
       "374.4"
      ]
     },
     "execution_count": 61,
     "metadata": {},
     "output_type": "execute_result"
    }
   ],
   "source": [
    "P_0 = 0.0002\n",
    "lambda_in = .780\n",
    "NA = 1.25\n",
    "dip_space = 1\n",
    "waist = lambda_in * 10**3 * 0.6 / (NA * dip_space)\n",
    "waist"
   ]
  },
  {
   "cell_type": "code",
   "execution_count": 60,
   "metadata": {},
   "outputs": [
    {
     "name": "stdout",
     "output_type": "stream",
     "text": [
      "0.45415954156820526\n",
      "4.5416E-01\n"
     ]
    }
   ],
   "source": [
    "I_0 = float(P_0) / ( np.pi * (waist * (dip_space) * 10**-9)**2 )*10**-9 #units of nW/m^2, then will get converted to W/m^2 for var.par\n",
    "print(I_0)\n",
    "I_0 = \"{:.4E}\".format(I_0)\n",
    "print(I_0)"
   ]
  },
  {
   "cell_type": "code",
   "execution_count": 62,
   "metadata": {},
   "outputs": [
    {
     "name": "stdout",
     "output_type": "stream",
     "text": [
      "I_0: 0.45416e+9\n",
      "\n"
     ]
    }
   ],
   "source": [
    "str = (\"I_0: %re+9\\n\" % float(I_0))\n",
    "print(str)"
   ]
  },
  {
   "cell_type": "code",
   "execution_count": null,
   "metadata": {},
   "outputs": [],
   "source": []
  }
 ],
 "metadata": {
  "kernelspec": {
   "display_name": "Python [conda env:py36] *",
   "language": "python",
   "name": "conda-env-py36-py"
  },
  "language_info": {
   "codemirror_mode": {
    "name": "ipython",
    "version": 3
   },
   "file_extension": ".py",
   "mimetype": "text/x-python",
   "name": "python",
   "nbconvert_exporter": "python",
   "pygments_lexer": "ipython3",
   "version": "3.6.7"
  }
 },
 "nbformat": 4,
 "nbformat_minor": 4
}
